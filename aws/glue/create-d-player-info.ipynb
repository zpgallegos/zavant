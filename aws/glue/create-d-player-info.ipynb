{
 "cells": [
  {
   "cell_type": "code",
   "execution_count": null,
   "metadata": {},
   "outputs": [],
   "source": [
    "%idle_timeout 2880\n",
    "%glue_version 4.0\n",
    "%worker_type G.1X\n",
    "%number_of_workers 5"
   ]
  },
  {
   "cell_type": "code",
   "execution_count": null,
   "metadata": {},
   "outputs": [],
   "source": [
    "import sys\n",
    "\n",
    "from awsglue.transforms import *\n",
    "from awsglue.utils import getResolvedOptions\n",
    "from awsglue.context import GlueContext\n",
    "from awsglue.job import Job\n",
    "\n",
    "from pyspark.context import SparkContext\n",
    "from pyspark.sql import SparkSession, functions as F, Window\n",
    "\n",
    "D_PLAYER_INFO_COLS = [\n",
    "    \"player_id\",\n",
    "    \"active\",\n",
    "    \"batSide_code\",\n",
    "    \"batSide_description\",\n",
    "    \"birthCity\",\n",
    "    \"birthCountry\",\n",
    "    \"birthDate\",\n",
    "    \"boxscoreName\",\n",
    "    \"currentAge\",\n",
    "    \"draftYear\",\n",
    "    \"firstLastName\",\n",
    "    \"firstName\",\n",
    "    \"height\",\n",
    "    \"lastName\",\n",
    "    \"lastPlayedDate\",\n",
    "    \"link\",\n",
    "    \"middleName\",\n",
    "    \"mlbDebutDate\",\n",
    "    \"nameSlug\",\n",
    "    \"pitchHand_code\",\n",
    "    \"pitchHand_description\",\n",
    "    \"primaryNumber\",\n",
    "    \"primaryPosition_abbreviation\",\n",
    "    \"primaryPosition_code\",\n",
    "    \"primaryPosition_name\",\n",
    "    \"primaryPosition_type\",\n",
    "    \"weight\",\n",
    "]"
   ]
  },
  {
   "cell_type": "code",
   "execution_count": null,
   "metadata": {},
   "outputs": [],
   "source": [
    "sc = SparkContext.getOrCreate()\n",
    "glueContext = GlueContext(sc)\n",
    "spark = glueContext.spark_session\n",
    "job = Job(glueContext)"
   ]
  },
  {
   "cell_type": "code",
   "execution_count": null,
   "metadata": {},
   "outputs": [],
   "source": [
    "df = glueContext.create_dynamic_frame.from_catalog(\n",
    "    database=\"zavant\", table_name=\"game_players\"\n",
    ").toDF()\n",
    "df = df.withColumn(\n",
    "    \"max_game_pk\", F.max(\"game_pk\").over(Window.partitionBy(\"player_id\"))\n",
    ")\n",
    "df = df.filter(F.col(\"game_pk\") == F.col(\"max_game_pk\")).drop(\"max_game_pk\")\n",
    "df = df.select(D_PLAYER_INFO_COLS)"
   ]
  },
  {
   "cell_type": "code",
   "execution_count": null,
   "metadata": {},
   "outputs": [],
   "source": [
    "s3output = glueContext.getSink(\n",
    "    path=\"s3://zavant-datamart/d-player-info\",\n",
    "    connection_type=\"s3\",\n",
    "    updateBehavior=\"UPDATE_IN_DATABASE\",\n",
    "    partitionKeys=[],\n",
    "    compression=\"snappy\",\n",
    "    enableUpdateCatalog=True,\n",
    "    transformation_ctx=\"s3output\",\n",
    ")\n",
    "s3output.setCatalogInfo(catalogDatabase=\"zavant\", catalogTableName=\"d_player_info\")\n",
    "s3output.setFormat(\"glueparquet\")\n",
    "s3output.writeDataFrame(df, glueContext)"
   ]
  }
 ],
 "metadata": {
  "kernelspec": {
   "display_name": "zavant",
   "language": "python",
   "name": "python3"
  },
  "language_info": {
   "name": "python",
   "version": "3.12.2"
  }
 },
 "nbformat": 4,
 "nbformat_minor": 2
}
